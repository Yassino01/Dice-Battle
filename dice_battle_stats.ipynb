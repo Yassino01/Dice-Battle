{
 "cells": [
  {
   "cell_type": "markdown",
   "metadata": {},
   "source": [
    "# 3. Probabilité"
   ]
  },
  {
   "cell_type": "markdown",
   "metadata": {},
   "source": [
    "### Question 1 :\n",
    "\n",
    "$$ Q(d,k) = \\sum_{j=2}^{6} \\frac{Q(d-1,k-j)}{5}$$"
   ]
  },
  {
   "cell_type": "markdown",
   "metadata": {},
   "source": [
    "Le cas d'initialisation est $Q(1,k)=\\frac{1}{5}$ avec $2 \\leq k\\leq6$\n",
    "\n",
    "On a $$P(1,k) = \\frac{5}{6}Q(1,k) = \\frac{1}{6}$$ \n"
   ]
  },
  {
   "cell_type": "code",
   "execution_count": 11,
   "metadata": {},
   "outputs": [],
   "source": [
    "import numpy as np\n",
    "import pandas as pd\n",
    "\n",
    "rows=200\n",
    "columns=200\n",
    "pd.set_option('display.max_rows',rows)\n",
    "pd.set_option('display.max_columns',columns)\n",
    "pd.set_option('display.width', 1000)"
   ]
  },
  {
   "cell_type": "code",
   "execution_count": 12,
   "metadata": {},
   "outputs": [],
   "source": [
    "def tab_Pdk(dmax): #Retourne le tableau des P(d,k) pour d et k supérieur à 1\n",
    "    \n",
    "    kmax = dmax*6  \n",
    "    res = np.ones((dmax, kmax))\n",
    "    \n",
    "   \n",
    "    for d in range(dmax):\n",
    "        for k in range(kmax):\n",
    "            if (k+1)<2*(1+d) or (k+1)>6*(d+1):\n",
    "                res[d,k] = 0\n",
    "                \n",
    "    #Cas d=1\n",
    "    for i in range(1,6):\n",
    "        res[0][i] = 1/5\n",
    "    \n",
    "    #on met les valeurs des Q(d,k) dans toutes les cases non nulles\n",
    "    for d in range(1,dmax):\n",
    "        for k in range(kmax):\n",
    "            if (res[d,k]==1) :\n",
    "                res[d,k] = 0\n",
    "                #on fait un for dans les valeurs qui sont réalisables. \n",
    "                #le +1 après le min est là car nous sommes dans un range\n",
    "                for i in range(max(k-6,2*(d+1-1)-1) , min(k-2,6*(d+1-1))+1):\n",
    "                    res[d,k] += res[d-1,i]/5\n",
    "    \n",
    "    #On multiplie toutes les cases selon la formule pour obtenir les P(d,k)\n",
    "    for d in range(dmax):\n",
    "        for k in range(kmax) :\n",
    "            res[d,k] =  res[d,k]*(5/6)**(d+1)\n",
    "            \n",
    "    for d in range(dmax):\n",
    "        res[d, 0] = 1-(5/6)**(d+1)\n",
    "            \n",
    "    return res"
   ]
  },
  {
   "cell_type": "code",
   "execution_count": 44,
   "metadata": {},
   "outputs": [
    {
     "data": {
      "text/html": [
       "<div>\n",
       "<style scoped>\n",
       "    .dataframe tbody tr th:only-of-type {\n",
       "        vertical-align: middle;\n",
       "    }\n",
       "\n",
       "    .dataframe tbody tr th {\n",
       "        vertical-align: top;\n",
       "    }\n",
       "\n",
       "    .dataframe thead th {\n",
       "        text-align: right;\n",
       "    }\n",
       "</style>\n",
       "<table border=\"1\" class=\"dataframe\">\n",
       "  <thead>\n",
       "    <tr style=\"text-align: right;\">\n",
       "      <th></th>\n",
       "      <th>1</th>\n",
       "      <th>2</th>\n",
       "      <th>3</th>\n",
       "      <th>4</th>\n",
       "      <th>5</th>\n",
       "      <th>6</th>\n",
       "      <th>7</th>\n",
       "      <th>8</th>\n",
       "      <th>9</th>\n",
       "      <th>10</th>\n",
       "      <th>11</th>\n",
       "      <th>12</th>\n",
       "      <th>13</th>\n",
       "      <th>14</th>\n",
       "      <th>15</th>\n",
       "      <th>16</th>\n",
       "      <th>17</th>\n",
       "      <th>18</th>\n",
       "    </tr>\n",
       "  </thead>\n",
       "  <tbody>\n",
       "    <tr>\n",
       "      <th>1</th>\n",
       "      <td>0.166667</td>\n",
       "      <td>0.166667</td>\n",
       "      <td>0.166667</td>\n",
       "      <td>0.166667</td>\n",
       "      <td>0.166667</td>\n",
       "      <td>0.166667</td>\n",
       "      <td>0.000000</td>\n",
       "      <td>0.000000</td>\n",
       "      <td>0.000000</td>\n",
       "      <td>0.000000</td>\n",
       "      <td>0.000000</td>\n",
       "      <td>0.000000</td>\n",
       "      <td>0.000000</td>\n",
       "      <td>0.000000</td>\n",
       "      <td>0.000000</td>\n",
       "      <td>0.000000</td>\n",
       "      <td>0.000000</td>\n",
       "      <td>0.00000</td>\n",
       "    </tr>\n",
       "    <tr>\n",
       "      <th>2</th>\n",
       "      <td>0.305556</td>\n",
       "      <td>0.000000</td>\n",
       "      <td>0.000000</td>\n",
       "      <td>0.027778</td>\n",
       "      <td>0.055556</td>\n",
       "      <td>0.083333</td>\n",
       "      <td>0.111111</td>\n",
       "      <td>0.138889</td>\n",
       "      <td>0.111111</td>\n",
       "      <td>0.083333</td>\n",
       "      <td>0.055556</td>\n",
       "      <td>0.027778</td>\n",
       "      <td>0.000000</td>\n",
       "      <td>0.000000</td>\n",
       "      <td>0.000000</td>\n",
       "      <td>0.000000</td>\n",
       "      <td>0.000000</td>\n",
       "      <td>0.00000</td>\n",
       "    </tr>\n",
       "    <tr>\n",
       "      <th>3</th>\n",
       "      <td>0.421296</td>\n",
       "      <td>0.000000</td>\n",
       "      <td>0.000000</td>\n",
       "      <td>0.000000</td>\n",
       "      <td>0.000000</td>\n",
       "      <td>0.004630</td>\n",
       "      <td>0.013889</td>\n",
       "      <td>0.027778</td>\n",
       "      <td>0.046296</td>\n",
       "      <td>0.069444</td>\n",
       "      <td>0.083333</td>\n",
       "      <td>0.087963</td>\n",
       "      <td>0.083333</td>\n",
       "      <td>0.069444</td>\n",
       "      <td>0.046296</td>\n",
       "      <td>0.027778</td>\n",
       "      <td>0.013889</td>\n",
       "      <td>0.00463</td>\n",
       "    </tr>\n",
       "  </tbody>\n",
       "</table>\n",
       "</div>"
      ],
      "text/plain": [
       "         1         2         3         4         5         6         7         8         9         10        11        12        13        14        15        16        17       18\n",
       "1  0.166667  0.166667  0.166667  0.166667  0.166667  0.166667  0.000000  0.000000  0.000000  0.000000  0.000000  0.000000  0.000000  0.000000  0.000000  0.000000  0.000000  0.00000\n",
       "2  0.305556  0.000000  0.000000  0.027778  0.055556  0.083333  0.111111  0.138889  0.111111  0.083333  0.055556  0.027778  0.000000  0.000000  0.000000  0.000000  0.000000  0.00000\n",
       "3  0.421296  0.000000  0.000000  0.000000  0.000000  0.004630  0.013889  0.027778  0.046296  0.069444  0.083333  0.087963  0.083333  0.069444  0.046296  0.027778  0.013889  0.00463"
      ]
     },
     "execution_count": 44,
     "metadata": {},
     "output_type": "execute_result"
    }
   ],
   "source": [
    "nb_dice = 3\n",
    "pdk = tab_Pdk(nb_dice)\n",
    "pd.DataFrame(pdk, #les lignes suivantes ne servent qu'à clarifier le tab\n",
    "             index = [i+1 for i in range(nb_dice)] ,      \n",
    "             columns=[i+1 for i in range(6*nb_dice)] )"
   ]
  },
  {
   "cell_type": "markdown",
   "metadata": {},
   "source": [
    "# 4. Variante séquentielle"
   ]
  },
  {
   "cell_type": "markdown",
   "metadata": {},
   "source": [
    "## 4.1 Stratégie aveugle\n",
    "\n",
    "Soit $d^*(D)$ le nombre de dés maximisant l'espérance du nombre de points. Nous appellerons dans la suite **stratégie aveugle**, la stratégie consistant à lancer $d^∗(D)$ dés.\n",
    "\n",
    "Éspérance du nombre du points obtenus pour $d$ dés :\n",
    "$$EP(d) = 4d\\biggl(\\frac{5}{6}\\biggr)^d+1-\\biggl(\\frac{5}{6}\\biggr)^d$$"
   ]
  },
  {
   "cell_type": "code",
   "execution_count": 30,
   "metadata": {},
   "outputs": [],
   "source": [
    "def Q2(D) : #Retourne le nombre optimale de dés à jouer pour maximiser l'ésperance de nombre de points d*(D)\n",
    "    esperance = []\n",
    "    for d in range(1,D+1):\n",
    "        esperance.append(4*d*(5/6)**d+1-(5/6)**d)\n",
    "    return np.argmax(esperance)"
   ]
  },
  {
   "cell_type": "markdown",
   "metadata": {},
   "source": [
    "### Question 3 :\n",
    "Voici deux cas où la *stratégie aveugle* n'est pas toujours la meilleur:\n",
    "- Le cas où un joueur est à deux points du score optimal et qu'il possède 6 dés, $d^*(6)=5$ or il serait plus judicieux de ne lancer que un ou deux dés.\n",
    "\n",
    "- Le cas où deux joueurs jouent avec 3 dés. Un joueur A n'est qu'à $1$ point de la victoire et que c'est au joueur B de jouer, qui est lui à 17 points de la victoire. On a $d^*(3)=2$ pourtant si le joueur B ne joue pas $3$ dés il n'a aucune chance de gagner."
   ]
  },
  {
   "cell_type": "markdown",
   "metadata": {},
   "source": [
    "## 4.2 Programmation dynamique"
   ]
  },
  {
   "cell_type": "markdown",
   "metadata": {},
   "source": [
    "Soit $(i, j)$ l'état où le premier joueur a cumulé $i$ points, le deuxième joueur a cumulé $j$ points, et c'est au joueur $1$ de jouer.\n",
    "\n",
    "Soit $EG(i, j)$ l'espérance de gain du joueur $1$ dans l'état $(i, j)$,\n",
    "en supposant que son adversaire et lui-même jouent de façon optimale."
   ]
  },
  {
   "cell_type": "markdown",
   "metadata": {},
   "source": [
    "### Question 4 :\n",
    " Calcule de l'espérance de gain $EG(i, j)$ pour le joueur 1 à un état $(i, j)$ donné."
   ]
  },
  {
   "cell_type": "code",
   "execution_count": 31,
   "metadata": {},
   "outputs": [],
   "source": [
    "def EG1(i,j,cpt):\n",
    "    global DOPT\n",
    "    if (j>=N):\n",
    "        return (-1,cpt)\n",
    "    if (i>=N-1):\n",
    "        DOPT[i,j]=1\n",
    "        return (1,cpt)\n",
    "    if (E1[i,j]!=0):\n",
    "        return (E1[i,j],cpt)\n",
    "    m=-1\n",
    "    for d in range(D):\n",
    "        sum=0\n",
    "        for k in range(1,6*D):\n",
    "            sum+=EG2(i+k,j,cpt+1)[0]*P[d,k-1]\n",
    "        if (sum>m):\n",
    "            #print(\"(i,j): \"+str(i)+' '+str(j))\n",
    "            m=sum\n",
    "            if (cpt==0):\n",
    "                #print(\"d: \"+str(d))\n",
    "                #print(\"sum: \"+str(sum))\n",
    "                tabdes.append(d)\n",
    "            DOPT[i,j]=d+1\n",
    "\n",
    "                \n",
    "    E1[i,j]=m\n",
    "    return (m,cpt)\n",
    "    \n",
    "de2=-1\n",
    "def EG2(i,j,cpt):\n",
    "    if (i>=N):\n",
    "        return (1,cpt+1)\n",
    "    if (j>=N-1):\n",
    "        return (-1,cpt+1)\n",
    "    if (E2[i,j]!=0):\n",
    "        return (E2[i,j],cpt+1)\n",
    "    m=1\n",
    "    for d2 in range(D):\n",
    "        sum=0\n",
    "        for k2 in range(1,6*D):\n",
    "            sum+=EG1(i,j+k2,cpt+1)[0]*P[d2,k2-1]\n",
    "        if (sum<m):\n",
    "            m=sum\n",
    "    E2[i,j]=m\n",
    "    return (m,cpt+1)\n",
    "\n",
    "\n"
   ]
  },
  {
   "cell_type": "code",
   "execution_count": 32,
   "metadata": {},
   "outputs": [],
   "source": [
    "def EG_J1(i,j):\n",
    "    return (EG1(i,j,0),tabdes[-1]+1)\n",
    "\n"
   ]
  },
  {
   "cell_type": "code",
   "execution_count": 33,
   "metadata": {},
   "outputs": [],
   "source": [
    "import matplotlib.pyplot as plt\n",
    "\n",
    "def strategie_optimale(score,adversaire):\n",
    "    global DOPT\n",
    "    return int(DOPT[score][adversaire])\n",
    "\n"
   ]
  },
  {
   "cell_type": "code",
   "execution_count": 34,
   "metadata": {},
   "outputs": [],
   "source": [
    "import random\n",
    "\n",
    "\n",
    "def simulation(n,de):\n",
    "    sommea=0\n",
    "    sommeb=0\n",
    "    while (sommea<n and sommeb<n):\n",
    "        sommetempa=[]\n",
    "        sommetempb=[]\n",
    "        #print(\"Score a: {}, score b: {}\".format(sommea,sommeb))\n",
    "        #dicemaxa=strategie_optimale(sommea,sommeb) \n",
    "        dicemaxa=strategie_optimale(sommea,sommeb) \n",
    "        dicemaxb=Q2(de)\n",
    "        \n",
    "        #print(\"A joue {} dés\".format(dicemaxa))\n",
    "        #print(\"B joue {} dés\".format(dicemaxb))\n",
    "        for k in range(dicemaxa):\n",
    "            dice=random.randint(1,6)\n",
    "            sommetempa.append(dice)\n",
    "            #print(\"Le joueur A a tiré un {}\".format(dice))\n",
    "        for k in range(dicemaxb):\n",
    "            dice=random.randint(1,6)\n",
    "            #print(\"Le joueur B a tiré un {}\".format(dice))\n",
    "            sommetempb.append(dice)\n",
    "        if (1 in sommetempa):\n",
    "            sommea+=1\n",
    "        else:\n",
    "            sommea+=np.sum(sommetempa)\n",
    "        if (1 in sommetempb):\n",
    "            sommeb+=1\n",
    "        else:\n",
    "            sommeb+=np.sum(sommetempb)\n",
    "    #print(\"SCORE FINAL: Score a: {}, score b: {}\".format(sommea,sommeb))\n",
    "    if (sommea>sommeb):\n",
    "        return 1\n",
    "    if (sommea<sommeb):\n",
    "        return 2\n",
    "    if (sommea==sommeb):\n",
    "        return 0\n",
    "    return\n"
   ]
  },
  {
   "cell_type": "code",
   "execution_count": 35,
   "metadata": {},
   "outputs": [],
   "source": [
    "\n",
    "def evaluationD(Dmax,Nmax):\n",
    "    global N\n",
    "    global E1\n",
    "    global E2\n",
    "    global tabdes\n",
    "    global P\n",
    "    global DOPT\n",
    "    global D\n",
    "    N=Nmax\n",
    "    plota=[]\n",
    "    plotb=[]\n",
    "    for dice in range(1,Dmax):\n",
    "        D=dice\n",
    "        P = tab_Pdk(D)\n",
    "        tabdes=[0]\n",
    "        E1=np.zeros((Nmax+1,Nmax+1))\n",
    "        E1[:,-1]=-1\n",
    "        E1[-1,:]=1\n",
    "        E1[-2,:]=1\n",
    "        E2=np.zeros((Nmax+1,Nmax+1))\n",
    "        E2[-1,:]=1\n",
    "        E2[:,-1]=-1\n",
    "        DOPT=np.zeros((Nmax+1,Nmax+1))\n",
    "        EG_J1(0,0)\n",
    "        for i in range(Nmax):\n",
    "            EG_J1(0,i)\n",
    "            EG_J1(i,0)\n",
    "        cpta=0\n",
    "        cptb=0\n",
    "        cptc=0\n",
    "        for k in range(100):\n",
    "            a=simulation(Nmax,dice)\n",
    "            if (a==1):\n",
    "                cpta+=1\n",
    "            if (a==2):\n",
    "                cptb+=1\n",
    "            if (a==0):\n",
    "                cptc+=1\n",
    "        plota.append(cpta/100)\n",
    "        plotb.append(cptb/100)\n",
    "    plt.plot([i for i in range (1,Dmax)],plota,label='Joueur A, stratégie aléatoire')\n",
    "    plt.plot([i for i in range (1,Dmax)],plotb,label='Joueur B, stratégie optimale')\n",
    "    plt.xlabel(\"Nombre de dés disponibles\")\n",
    "    plt.ylabel(\"Probabilité de victoire\")\n",
    "    plt.title(\"Probabilité de victoire en fonction du nombre de dés disponibles\")\n",
    "    plt.legend()\n",
    "    plt.show()\n",
    "    \n",
    "def evaluationN(Dmax,Nmax):\n",
    "    global N\n",
    "    global E1\n",
    "    global E2\n",
    "    global tabdes\n",
    "    global P\n",
    "    global DOPT\n",
    "    global D\n",
    "    N=Nmax\n",
    "    plota=[]\n",
    "    plotb=[]\n",
    "    for score in range(1,Nmax):\n",
    "        N=score\n",
    "        P = tab_Pdk(Dmax)\n",
    "        tabdes=[0]\n",
    "        E1=np.zeros((Nmax+1,Nmax+1))\n",
    "        E1[:,-1]=-1\n",
    "        E1[-1,:]=1\n",
    "        E1[-2,:]=1\n",
    "        E2=np.zeros((Nmax+1,Nmax+1))\n",
    "        E2[-1,:]=1\n",
    "        E2[:,-1]=-1\n",
    "        DOPT=np.zeros((Nmax+1,Nmax+1))\n",
    "        EG_J1(0,0)\n",
    "        for i in range(Nmax):\n",
    "            EG_J1(0,i)\n",
    "            EG_J1(i,0)\n",
    "        cpta=0\n",
    "        cptb=0\n",
    "        cptc=0\n",
    "        for k in range(1000):\n",
    "            a=simulation(score,Dmax)\n",
    "            if (a==1):\n",
    "                cpta+=1\n",
    "            if (a==2):\n",
    "                cptb+=1\n",
    "            if (a==0):\n",
    "                cptc+=1\n",
    "        plota.append(cpta/1000)\n",
    "        plotb.append(cptb/1000)\n",
    "    plt.plot([i for i in range (1,Nmax)],plota,label='Joueur A, stratégie optimale')\n",
    "    plt.plot([i for i in range (1,Nmax)],plotb,label='Joueur B, stratégie aveugle')\n",
    "    plt.xlabel(\"Valeur de N\")\n",
    "    plt.ylabel(\"Probabilité de victoire\")\n",
    "    plt.title(\"Probabilité de victoire en fonction de N pour \"+str(Dmax)+\" dés\")\n",
    "    plt.legend()\n",
    "    plt.show()\n",
    "    "
   ]
  },
  {
   "cell_type": "code",
   "execution_count": null,
   "metadata": {},
   "outputs": [],
   "source": []
  },
  {
   "cell_type": "code",
   "execution_count": null,
   "metadata": {},
   "outputs": [],
   "source": []
  },
  {
   "cell_type": "markdown",
   "metadata": {},
   "source": [
    "# 5. Variante séquentielle"
   ]
  },
  {
   "cell_type": "markdown",
   "metadata": {},
   "source": [
    "## 5.1 Jeu en un coup"
   ]
  },
  {
   "cell_type": "markdown",
   "metadata": {},
   "source": [
    "On considère en première approche une version simplifuiée où on lance une fois les dés.\n",
    "Le gagnant est simplement celui qui remporte le plus de points.\n",
    "On note  $EG1(d1, d2)$ l'espérance de gain du joueur 1 s'il lance $d1$ dés a lorsque le joueur2 en lance $d2$."
   ]
  },
  {
   "cell_type": "markdown",
   "metadata": {},
   "source": [
    "### Question 10 :\n",
    "\n",
    "  Calcul de $EG1(d1, d2)$ en fonction des probabilités $P(d, k)$"
   ]
  },
  {
   "cell_type": "code",
   "execution_count": 49,
   "metadata": {},
   "outputs": [
    {
     "data": {
      "text/plain": [
       "-5.551115123125783e-17"
      ]
     },
     "execution_count": 49,
     "metadata": {},
     "output_type": "execute_result"
    }
   ],
   "source": [
    "def Eg1(d1,d2):\n",
    "    return (sum([sum([pdk[d1-1,k1-1]*pdk[d2-1,k2-1] for k1 in range(1,6*d1+1) if k1>k2 ])\n",
    "                for k2 in range(1,6*d2+1)])\n",
    "            -sum([sum([pdk[d1-1,k1-1]*pdk[d2-1,k2-1] for k1 in range(1,6*d1+1) if k1<k2 ])\n",
    "                  for k2 in range(1,6*d2+1)])\n",
    "           )\n",
    "Eg1(3,3)    "
   ]
  },
  {
   "cell_type": "code",
   "execution_count": 50,
   "metadata": {},
   "outputs": [
    {
     "data": {
      "text/plain": [
       "[[0.0, 0.3750000000000003, 0.2268518518518522],\n",
       " [-0.3750000000000003, 0.0, 0.19881687242798363],\n",
       " [-0.22685185185185208, -0.19881687242798368, -5.551115123125783e-17]]"
      ]
     },
     "execution_count": 50,
     "metadata": {},
     "output_type": "execute_result"
    }
   ],
   "source": [
    "EG=[[Eg1(d1,d2) for d1 in range(1,nb_dice+1)] for d2 in range(1,nb_dice+1)]\n",
    "EG"
   ]
  },
  {
   "cell_type": "markdown",
   "metadata": {},
   "source": [
    "### Question 12 :\n",
    "\n",
    " PL pour obtenir une stratégie optimale pour J1"
   ]
  },
  {
   "cell_type": "code",
   "execution_count": 51,
   "metadata": {},
   "outputs": [
    {
     "name": "stdout",
     "output_type": "stream",
     "text": [
      "Status: Optimal\n",
      "<class 'list'>\n",
      "Dec_1 = 0.0\n",
      "Dec_2 = 0.0\n",
      "Dec_3 = 1.0\n",
      "Dec_z = 0.0\n",
      "Esperance de gain optimal =  0.0\n",
      "[0.0, 0.0, 1.0]\n"
     ]
    }
   ],
   "source": [
    "from pulp import *\n",
    "\n",
    "def opt_simultane(EG,nb_dice):\n",
    "    var=['z']+[i for i in range(1,nb_dice+1)]\n",
    "\n",
    "    # Create the 'prob' variable to contain the problem data\n",
    "    prob = LpProblem(\"The opt strategy for player 1\", LpMaximize)\n",
    "\n",
    "    # A dictionary called 'dec_vars' is created to contain the referenced Variables\n",
    "    dec_vars = LpVariable.dicts(\"Dec\",var[1:],0)\n",
    "    dec_vars.update(LpVariable.dicts(\"Dec\",var[0]))\n",
    "\n",
    "    # The objective function is added to 'prob' first\n",
    "    prob += lpSum([dec_vars['z']]),\"objective function\"\n",
    "    \n",
    "    coef=dict()\n",
    "    coef['z']=1\n",
    "    \n",
    "    for i in var[1:]:\n",
    "        coef[i]=-1\n",
    "    \n",
    "    for j in range(1,nb_dice+1):\n",
    "        prob += lpSum([coef['z']*dec_vars['z']]+[EG[i-1][j-1]*dec_vars[i] for i in var[1:]]) <= 0.0, \"{} contrast\".format(j)\n",
    "\n",
    "    prob += lpSum([dec_vars[i] for i in var[1:]]) == 1\n",
    "    \n",
    "    # The problem data is written to an .lp file\n",
    "    prob.writeLP(\"strategy_player1.lp\")\n",
    "\n",
    "    # The problem is solved using PuLP's choice of Solver\n",
    "    prob.solve()\n",
    "\n",
    "    # The status of the solution is printed to the screen\n",
    "    print (\"Status:\", LpStatus[prob.status])\n",
    "\n",
    "    # Each of the variables is printed with it's resolved optimum value\n",
    "    print(type(prob.variables()))\n",
    "    for v in prob.variables():\n",
    "        print(v.name, \"=\", v.varValue)\n",
    "\n",
    "    # The optimised objective function value is printed to the screen    \n",
    "    print(\"Esperance de gain optimal = \", value(prob.objective))\n",
    "    \n",
    "    strategy=[v.varValue for v in prob.variables() if v.name != \"Dec_z\"]\n",
    "    return strategy\n",
    "\n",
    "print(opt_simultane(EG,nb_dice))\n"
   ]
  },
  {
   "cell_type": "code",
   "execution_count": null,
   "metadata": {},
   "outputs": [],
   "source": []
  },
  {
   "cell_type": "code",
   "execution_count": null,
   "metadata": {},
   "outputs": [],
   "source": []
  }
 ],
 "metadata": {
  "kernelspec": {
   "display_name": "Python 3",
   "language": "python",
   "name": "python3"
  },
  "language_info": {
   "codemirror_mode": {
    "name": "ipython",
    "version": 3
   },
   "file_extension": ".py",
   "mimetype": "text/x-python",
   "name": "python",
   "nbconvert_exporter": "python",
   "pygments_lexer": "ipython3",
   "version": "3.6.9"
  }
 },
 "nbformat": 4,
 "nbformat_minor": 2
}
